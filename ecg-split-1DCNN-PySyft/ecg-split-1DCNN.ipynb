{
 "cells": [
  {
   "cell_type": "code",
   "execution_count": 25,
   "source": [
    "from pathlib import Path\n",
    "import h5py\n",
    "import numpy as np\n",
    "from icecream import ic  # easy printing for debugging\n",
    "from tqdm import tqdm\n",
    "import matplotlib.pyplot as plt\n",
    "plt.style.use('dark_background')\n",
    "\n",
    "import torch\n",
    "import torch.nn as nn\n",
    "from torch.utils.data import Dataset, DataLoader\n",
    "from torch.optim import Adam, SGD\n",
    "\n",
    "import syft as sy\n",
    "from syft.core.node.vm.vm import VirtualMachine\n",
    "from syft.core.node.vm.client import VirtualMachineClient\n",
    "from syft.ast.module import Module\n",
    "from syft.core.remote_dataloader import RemoteDataLoader\n",
    "from syft.core.remote_dataloader import RemoteDataset\n",
    "\n",
    "print(f'torch version: {torch.__version__}')\n",
    "print(f'syft version: {sy.__version__}')\n"
   ],
   "outputs": [
    {
     "output_type": "stream",
     "name": "stdout",
     "text": [
      "torch version: 1.8.1+cu102\n",
      "syft version: 0.5.0\n"
     ]
    }
   ],
   "metadata": {
    "gather": {
     "logged": 1631728123882
    }
   }
  },
  {
   "cell_type": "markdown",
   "source": [
    "## Files and Directories"
   ],
   "metadata": {}
  },
  {
   "cell_type": "code",
   "execution_count": 26,
   "source": [
    "project_path = Path.cwd()\n",
    "print(f'project_path: {project_path}')"
   ],
   "outputs": [
    {
     "output_type": "stream",
     "name": "stdout",
     "text": [
      "project_path: /mnt/batch/tasks/shared/LS_root/mounts/clusters/teslak80-56gbram/code/Users/dkn.work/priv-sec-ai-blog/ecg-split-1DCNN-PySyft\n"
     ]
    }
   ],
   "metadata": {}
  },
  {
   "cell_type": "code",
   "execution_count": 27,
   "source": [
    "# paths to files and directories\n",
    "train_name = 'train_ecg.hdf5'\n",
    "test_name = 'test_ecg.hdf5'\n",
    "dry_run = False  # load less data (50 examples)"
   ],
   "outputs": [],
   "metadata": {
    "collapsed": false,
    "gather": {
     "logged": 1631728124365
    },
    "jupyter": {
     "outputs_hidden": false,
     "source_hidden": false
    },
    "nteract": {
     "transient": {
      "deleting": false
     }
    }
   }
  },
  {
   "cell_type": "markdown",
   "source": [
    "## Construct the client and server"
   ],
   "metadata": {}
  },
  {
   "cell_type": "code",
   "execution_count": 28,
   "source": [
    "server: VirtualMachine = sy.VirtualMachine(name=\"server\")\n",
    "client: VirtualMachineClient = server.get_root_client()\n",
    "remote_torch: Module = client.torch"
   ],
   "outputs": [],
   "metadata": {
    "collapsed": true,
    "gather": {
     "logged": 1631728125060
    },
    "jupyter": {
     "outputs_hidden": true
    },
    "nteract": {
     "transient": {
      "deleting": false
     }
    }
   }
  },
  {
   "cell_type": "markdown",
   "source": [
    "## Client: loading and exploring the dataset"
   ],
   "metadata": {}
  },
  {
   "cell_type": "code",
   "execution_count": 29,
   "source": [
    "class ECG(Dataset):\n",
    "    # The class used to load the ECG dataset\n",
    "    def __init__(self, mode='train'):\n",
    "        if mode == 'train':\n",
    "            with h5py.File(project_path/train_name, 'r') as hdf:\n",
    "                if dry_run:\n",
    "                    self.x = torch.tensor(hdf['x_train'][:50], dtype=torch.float)\n",
    "                    self.y = torch.tensor(hdf['y_train'][:50])\n",
    "                else:\n",
    "                    self.x = torch.tensor(hdf['x_train'][:], dtype=torch.float)\n",
    "                    self.y = torch.tensor(hdf['y_train'][:])\n",
    "        elif mode == 'test':\n",
    "            with h5py.File(project_path/test_name, 'r') as hdf:\n",
    "                if dry_run:\n",
    "                    self.x = torch.tensor(hdf['x_test'][:50], dtype=torch.float)\n",
    "                    self.y = torch.tensor(hdf['y_test'][:50])\n",
    "                else:\n",
    "                    self.x = torch.tensor(hdf['x_test'][:], dtype=torch.float)\n",
    "                    self.y = torch.tensor(hdf['y_test'][:])\n",
    "        else:\n",
    "            raise ValueError('Argument of mode should be train or test')\n",
    "    \n",
    "    def __len__(self):\n",
    "        return len(self.x)\n",
    "    \n",
    "    def __getitem__(self, idx):\n",
    "        return self.x[idx], self.y[idx]"
   ],
   "outputs": [],
   "metadata": {
    "collapsed": false,
    "gather": {
     "logged": 1631728126198
    },
    "jupyter": {
     "outputs_hidden": false,
     "source_hidden": false
    },
    "nteract": {
     "transient": {
      "deleting": false
     }
    }
   }
  },
  {
   "cell_type": "code",
   "execution_count": 30,
   "source": [
    "train_dataset = ECG(mode='train')\n",
    "test_dataset = ECG(mode='test')"
   ],
   "outputs": [],
   "metadata": {
    "collapsed": false,
    "gather": {
     "logged": 1631728128802
    },
    "jupyter": {
     "outputs_hidden": false,
     "source_hidden": false
    },
    "nteract": {
     "transient": {
      "deleting": false
     }
    }
   }
  },
  {
   "cell_type": "markdown",
   "source": [
    "Let's first get everything in the dataset and see how many examples we have, and how each\n",
    "of them look like"
   ],
   "metadata": {
    "nteract": {
     "transient": {
      "deleting": false
     }
    }
   }
  },
  {
   "cell_type": "code",
   "execution_count": 31,
   "source": [
    "train_loader = DataLoader(train_dataset, batch_size=len(train_dataset))\n",
    "test_loader = DataLoader(test_dataset, batch_size=len(test_dataset))\n",
    "x_train, y_train = next(iter(train_loader))\n",
    "x_test, y_test = next(iter(test_loader))\n",
    "print(f'x_train: {type(x_train)}, {x_train.size()}')\n",
    "print(f'y_train: {type(y_train)}, {y_train.size()}')\n",
    "print(f'x_test: {type(x_test)}, {x_test.size()}')\n",
    "print(f'y_test: {type(y_test)}, {y_test.size()}')"
   ],
   "outputs": [
    {
     "output_type": "stream",
     "name": "stdout",
     "text": [
      "x_train: <class 'torch.Tensor'>, torch.Size([13245, 1, 128])\n",
      "y_train: <class 'torch.Tensor'>, torch.Size([13245])\n",
      "x_test: <class 'torch.Tensor'>, torch.Size([13245, 1, 128])\n",
      "y_test: <class 'torch.Tensor'>, torch.Size([13245])\n"
     ]
    }
   ],
   "metadata": {
    "gather": {
     "logged": 1631728129488
    }
   }
  },
  {
   "cell_type": "code",
   "execution_count": 32,
   "source": [
    "y_train"
   ],
   "outputs": [
    {
     "output_type": "execute_result",
     "data": {
      "text/plain": [
       "tensor([2, 4, 2,  ..., 1, 4, 0])"
      ]
     },
     "metadata": {},
     "execution_count": 32
    }
   ],
   "metadata": {}
  },
  {
   "cell_type": "code",
   "execution_count": 33,
   "source": [
    "def plot_ecg(x: torch.Tensor, y:torch.Tensor):\n",
    "    x = x.view(-1)  # unroll into a list\n",
    "    indx = np.arange(0, 128)\n",
    "    plt.plot(x)\n",
    "    plt.title(f'Class: {y}')\n",
    "    plt.show()"
   ],
   "outputs": [],
   "metadata": {}
  },
  {
   "cell_type": "code",
   "execution_count": 34,
   "source": [
    "def plot_ecg():\n",
    "    x = np.arange(0, 128)\n",
    "    fig, axs = plt.subplots(2, 3)\n",
    "    axs[0, 0].plot(x_train[-1].view(-1))\n",
    "    axs[0, 0].set_title(f'Class: {y_train[-1]}')\n",
    "    axs[0, 1].plot(x_train[5].view(-1))\n",
    "    axs[0, 1].set_title(f'Class: {y_train[5]}')\n",
    "    axs[0, 2].plot(x_train[0].view(-1))\n",
    "    axs[0, 2].set_title(f'Class: {y_train[0]}')\n",
    "    axs[1, 0].plot(x_train[14].view(-1))\n",
    "    axs[1, 0].set_title(f'Class: {y_train[14]}')\n",
    "    axs[1, 1].plot(x_train[1].view(-1))\n",
    "    axs[1, 1].set_title(f'Class: {y_train[1]}')\n",
    "\n",
    "    fig.subplots_adjust(hspace=0.5)\n",
    "    # Hide x labels and tick labels for top plots and y ticks for right plots.\n",
    "    for ax in axs.flat:\n",
    "        ax.label_outer()\n",
    "\n",
    "plot_ecg()"
   ],
   "outputs": [
    {
     "output_type": "display_data",
     "data": {
      "image/png": "[encoded data removed]",
      "text/plain": [
       "<Figure size 432x288 with 6 Axes>"
      ]
     },
     "metadata": {}
    }
   ],
   "metadata": {}
  },
  {
   "cell_type": "markdown",
   "source": [
    "The client creates the Dataset object and save it in a `.pt` file. \n",
    "If using `duet`, he can send the string path to the server using \n",
    "`sy.lib.python.String(string_path).send(duet, pointable=True, tags=[\"data\"])`"
   ],
   "metadata": {
    "nteract": {
     "transient": {
      "deleting": false
     }
    }
   }
  },
  {
   "cell_type": "code",
   "execution_count": 35,
   "source": [
    "torch.save(train_dataset, \"train_dataset.pt\")\n",
    "torch.save(test_dataset, \"test_dataset.pt\")"
   ],
   "outputs": [],
   "metadata": {
    "collapsed": false,
    "gather": {
     "logged": 1631728134907
    },
    "jupyter": {
     "outputs_hidden": false,
     "source_hidden": false
    },
    "nteract": {
     "transient": {
      "deleting": false
     }
    }
   }
  },
  {
   "cell_type": "markdown",
   "source": [
    "## Server: creating remote dataset and dataloader"
   ],
   "metadata": {}
  },
  {
   "cell_type": "code",
   "execution_count": 36,
   "source": [
    "train_rds = RemoteDataset(path='train_dataset.pt', data_type=\"torch_tensor\")\n",
    "train_rds"
   ],
   "outputs": [
    {
     "output_type": "execute_result",
     "data": {
      "text/plain": [
       "<class 'syft.core.remote_dataloader.remote_dataloader.RemoteDataset'>: torch_tensor"
      ]
     },
     "metadata": {},
     "execution_count": 36
    }
   ],
   "metadata": {
    "collapsed": false,
    "gather": {
     "logged": 1631728139282
    },
    "jupyter": {
     "outputs_hidden": false,
     "source_hidden": false
    },
    "nteract": {
     "transient": {
      "deleting": false
     }
    }
   }
  },
  {
   "cell_type": "markdown",
   "source": [
    "From the remote dataset, the server constructs the data loader. Then the server uses `.send`\n",
    "to create a pointer to do remote data loading"
   ],
   "metadata": {
    "nteract": {
     "transient": {
      "deleting": false
     }
    }
   }
  },
  {
   "cell_type": "code",
   "execution_count": 37,
   "source": [
    "train_rdl = RemoteDataLoader(remote_dataset=train_rds, batch_size=32)\n",
    "train_rdl_ptr = train_rdl.send(client)\n",
    "ic(train_rdl, train_rdl_ptr)\n",
    "# call create_dataset to create the real Dataset object on remote side\n",
    "train_rdl_ptr.load_dataset()\n",
    "# call create_dataloader to create the real DataLoader object on remote side\n",
    "train_rdl_ptr.create_dataloader()"
   ],
   "outputs": [
    {
     "output_type": "stream",
     "name": "stderr",
     "text": [
      "ic| train_rdl: <syft.core.remote_dataloader.remote_dataloader.RemoteDataLoader object at 0x7fcc491a4bb0>\n",
      "    train_rdl_ptr: <syft.proxy.syft.core.remote_dataloader.RemoteDataLoaderPointer object at 0x7fcc490a5340>\n"
     ]
    },
    {
     "output_type": "execute_result",
     "data": {
      "text/plain": [
       "<syft.proxy.syft.lib.python._SyNonePointer at 0x7fcc490a5be0>"
      ]
     },
     "metadata": {},
     "execution_count": 37
    }
   ],
   "metadata": {
    "collapsed": false,
    "gather": {
     "logged": 1631728141531
    },
    "jupyter": {
     "outputs_hidden": false,
     "source_hidden": false
    },
    "nteract": {
     "transient": {
      "deleting": false
     }
    }
   }
  },
  {
   "cell_type": "code",
   "execution_count": 38,
   "source": [
    "for i, b in enumerate(train_rdl_ptr):\n",
    "    if dry_run:\n",
    "        X, y = b[0], b[1]\n",
    "        ic(X, y)\n",
    "        ic(X.get_copy().shape, y.get_copy().shape)"
   ],
   "outputs": [],
   "metadata": {
    "collapsed": false,
    "gather": {
     "logged": 1631728146464
    },
    "jupyter": {
     "outputs_hidden": false,
     "source_hidden": false
    },
    "nteract": {
     "transient": {
      "deleting": false
     }
    }
   }
  },
  {
   "cell_type": "markdown",
   "source": [
    "Similarly, for the test dataset"
   ],
   "metadata": {
    "nteract": {
     "transient": {
      "deleting": false
     }
    }
   }
  },
  {
   "cell_type": "code",
   "execution_count": 39,
   "source": [
    "test_rds = RemoteDataset(path='test_dataset.pt', data_type=\"torch_tensor\")\n",
    "test_rdl = RemoteDataLoader(remote_dataset=test_rds, batch_size=32)\n",
    "test_rdl_ptr = test_rdl.send(client)\n",
    "ic(test_rds, test_rdl, test_rdl_ptr)\n",
    "# call create_dataset to create the real Dataset object on remote side\n",
    "test_rdl_ptr.load_dataset()\n",
    "# call create_dataloader to create the real DataLoader object on remote side\n",
    "test_rdl_ptr.create_dataloader()"
   ],
   "outputs": [
    {
     "output_type": "stream",
     "name": "stderr",
     "text": [
      "ic| test_rds: <class 'syft.core.remote_dataloader.remote_dataloader.RemoteDataset'>: torch_tensor\n",
      "    test_rdl: <syft.core.remote_dataloader.remote_dataloader.RemoteDataLoader object at 0x7fcc491a4c40>\n",
      "    test_rdl_ptr: <syft.proxy.syft.core.remote_dataloader.RemoteDataLoaderPointer object at 0x7fcc4918ce50>\n"
     ]
    },
    {
     "output_type": "execute_result",
     "data": {
      "text/plain": [
       "<syft.proxy.syft.lib.python._SyNonePointer at 0x7fcc4909fa00>"
      ]
     },
     "metadata": {},
     "execution_count": 39
    }
   ],
   "metadata": {
    "collapsed": false,
    "gather": {
     "logged": 1631728152029
    },
    "jupyter": {
     "outputs_hidden": false,
     "source_hidden": false
    },
    "nteract": {
     "transient": {
      "deleting": false
     }
    }
   }
  },
  {
   "cell_type": "code",
   "execution_count": 40,
   "source": [
    "for i, b in enumerate(test_rdl_ptr):\n",
    "    if dry_run:\n",
    "        X, y = b[0], b[1]\n",
    "        ic(X, y)\n",
    "        ic(X.get_copy().shape, y.get_copy().shape)"
   ],
   "outputs": [],
   "metadata": {
    "collapsed": false,
    "gather": {
     "logged": 1631728158924
    },
    "jupyter": {
     "outputs_hidden": false,
     "source_hidden": false
    },
    "nteract": {
     "transient": {
      "deleting": false
     }
    }
   }
  },
  {
   "cell_type": "markdown",
   "source": [
    "## Server: define the spit neural network used to train on the ECG dataset"
   ],
   "metadata": {}
  },
  {
   "cell_type": "markdown",
   "source": [
    "Client's side contains conv layers"
   ],
   "metadata": {
    "nteract": {
     "transient": {
      "deleting": false
     }
    }
   }
  },
  {
   "cell_type": "code",
   "execution_count": 41,
   "source": [
    "class EcgClient(sy.Module):\n",
    "    # used by the data owners\n",
    "    def __init__(self, torch_ref):\n",
    "        super(EcgClient, self).__init__(torch_ref=torch_ref)\n",
    "        self.conv1 = self.torch_ref.nn.Conv1d(1, 16, 7, padding=3)  # 128 x 16\n",
    "        self.relu1 = self.torch_ref.nn.LeakyReLU()\n",
    "        self.pool1 = self.torch_ref.nn.MaxPool1d(2)  # 64 x 16\n",
    "        self.conv2 = self.torch_ref.nn.Conv1d(16, 16, 5, padding=2)  # 64 x 16\n",
    "        self.relu2 = self.torch_ref.nn.LeakyReLU()\n",
    "        self.pool2 = self.torch_ref.nn.MaxPool1d(2)  # 32 x 16\n",
    "        # load initial weights\n",
    "        checkpoint = torch.load(\"init_weight.pth\")\n",
    "        self.conv1.weight.data = checkpoint[\"conv1.weight\"]\n",
    "        self.conv1.bias.data = checkpoint[\"conv1.bias\"]\n",
    "        self.conv2.weight.data = checkpoint[\"conv2.weight\"]\n",
    "        self.conv2.bias.data = checkpoint[\"conv2.bias\"]\n",
    "    \n",
    "    def forward(self, x):\n",
    "        x = self.conv1(x)\n",
    "        x = self.relu1(x)\n",
    "        x = self.pool1(x)\n",
    "        x = self.conv2(x)\n",
    "        x = self.relu2(x)\n",
    "        x = self.pool2(x)\n",
    "        x = x.view(-1, 32 * 16)\n",
    "        return x"
   ],
   "outputs": [],
   "metadata": {
    "gather": {
     "logged": 1631728162461
    }
   }
  },
  {
   "cell_type": "markdown",
   "source": [
    "Server's side contains fully connected layers"
   ],
   "metadata": {
    "nteract": {
     "transient": {
      "deleting": false
     }
    }
   }
  },
  {
   "cell_type": "code",
   "execution_count": 42,
   "source": [
    "class EcgServer(sy.Module):\n",
    "    def __init__(self, torch_ref):\n",
    "        super(EcgServer, self).__init__(torch_ref=torch_ref)\n",
    "        self.linear3 = nn.Linear(32 * 16, 128)\n",
    "        self.relu3 = nn.LeakyReLU() \n",
    "        self.linear4 = nn.Linear(128, 5)\n",
    "        self.softmax4 = nn.Softmax(dim=1)\n",
    "        \n",
    "        checkpoint = torch.load(\"init_weight.pth\")\n",
    "        self.linear3.weight.data = checkpoint[\"linear3.weight\"]\n",
    "        self.linear3.bias.data = checkpoint[\"linear3.bias\"]\n",
    "        self.linear4.weight.data = checkpoint[\"linear4.weight\"]\n",
    "        self.linear4.bias.data = checkpoint[\"linear4.bias\"]\n",
    "        \n",
    "    def forward(self, x):\n",
    "        x = self.linear3(x)\n",
    "        x = self.relu3(x)\n",
    "        x = self.linear4(x)\n",
    "        x = self.softmax4(x)\n",
    "        return x"
   ],
   "outputs": [],
   "metadata": {
    "gather": {
     "logged": 1631728164329
    }
   }
  },
  {
   "cell_type": "markdown",
   "source": [
    "## Server: training process"
   ],
   "metadata": {
    "nteract": {
     "transient": {
      "deleting": false
     }
    }
   }
  },
  {
   "cell_type": "code",
   "execution_count": 43,
   "source": [
    "ecg_client = EcgClient(torch_ref=torch)\n",
    "ecg_client_ptr = ecg_client.send(client)  # Send the client's model to the client\n",
    "ecg_server = EcgServer(torch_ref=torch)"
   ],
   "outputs": [],
   "metadata": {
    "collapsed": false,
    "gather": {
     "logged": 1631728166406
    },
    "jupyter": {
     "outputs_hidden": false,
     "source_hidden": false
    },
    "nteract": {
     "transient": {
      "deleting": false
     }
    }
   }
  },
  {
   "cell_type": "markdown",
   "source": [
    "Some hyper-parameters"
   ],
   "metadata": {
    "nteract": {
     "transient": {
      "deleting": false
     }
    }
   }
  },
  {
   "cell_type": "code",
   "execution_count": 44,
   "source": [
    "total_batch = 414  # 32*414=13248. We have 13245 data samples\n",
    "\n",
    "epoch = 400\n",
    "criterion = nn.CrossEntropyLoss()\n",
    "lr = 0.001\n",
    "\n",
    "optim_client = remote_torch.optim.Adam(params=ecg_client_ptr.parameters(), lr=lr)\n",
    "optim_server = torch.optim.Adam(params=ecg_server.parameters(), lr=lr)\n",
    "\n",
    "seed = 0  # the meaning of life\n",
    "np.random.seed(seed)\n",
    "torch.manual_seed(seed)\n",
    "torch.cuda.manual_seed(seed)\n",
    "torch.cuda.manual_seed_all(seed) # if you are using multi-GPU.\n",
    "torch.backends.cudnn.benchmark = False\n",
    "torch.backends.cudnn.deterministic = True\n",
    "remote_torch.manual_seed(seed)"
   ],
   "outputs": [
    {
     "output_type": "execute_result",
     "data": {
      "text/plain": [
       "<syft.proxy.torch.GeneratorPointer at 0x7fcc490ab7f0>"
      ]
     },
     "metadata": {},
     "execution_count": 44
    }
   ],
   "metadata": {
    "collapsed": false,
    "gather": {
     "logged": 1631728168564
    },
    "jupyter": {
     "outputs_hidden": false,
     "source_hidden": false
    },
    "nteract": {
     "transient": {
      "deleting": false
     }
    }
   }
  },
  {
   "cell_type": "markdown",
   "source": [
    "Training (with CPU)"
   ],
   "metadata": {
    "nteract": {
     "transient": {
      "deleting": false
     }
    }
   }
  },
  {
   "cell_type": "code",
   "execution_count": 48,
   "source": [
    "train_losses = list()\n",
    "train_accs = list()\n",
    "test_losses = list()\n",
    "test_accs = list()\n",
    "best_test_acc = 0  # best test accuracy\n",
    "for e in range(epoch):\n",
    "    print(f\"Epoch {e+1} - train \", end='')\n",
    "    \n",
    "    train_loss = 0.0\n",
    "    correct, total = 0, 0\n",
    "    for i, batch in enumerate(train_rdl_ptr):\n",
    "        x_ptr, y_gt_ptr = batch[0], batch[1]\n",
    "        # ic(x.get_copy(), y.get_copy())\n",
    "        # initialize all gradients to zero\n",
    "        optim_server.zero_grad()\n",
    "        optim_client.zero_grad()\n",
    "        # compute and get the activation signals from the first half of the network\n",
    "        activs_ptr = ecg_client_ptr(x_ptr)\n",
    "        # the client sends the activation maps to the server\n",
    "        activs = activs_ptr.clone().get(request_block=True)\n",
    "        # the server continues the forward pass on the activation maps\n",
    "        y_hat = ecg_server(activs)\n",
    "        # the server asks to access ground truths in plain text\n",
    "        y_gt = y_gt_ptr.get_copy()\n",
    "        # calculates cross-entropy loss\n",
    "        loss = criterion(y_hat, y_gt)\n",
    "        train_loss += loss.item()\n",
    "        correct += torch.sum(y_hat.argmax(dim=1) == y_gt).item()\n",
    "        # backward propagation (calculating gradients of the loss w.r.t the weights)\n",
    "        loss.backward()\n",
    "        # send the gradients to the client\n",
    "        client_grad_ptr = activs.grad.clone().send(client)\n",
    "        # update the gradients of the client's model\n",
    "        activs_ptr.backward(client_grad_ptr)\n",
    "        # update the weights based on the gradients\n",
    "        optim_client.step()\n",
    "        optim_server.step()\n",
    "        total += len(y_gt)\n",
    "\n",
    "    train_losses.append(train_loss / total_batch)\n",
    "    train_accs.append(correct / total)\n",
    "\n",
    "    print(f'loss: {train_losses[-1]: .4f}, accuracy: {train_accs[-1]*100: 2f}')\n",
    "\n",
    "    # testing\n",
    "    with torch.no_grad():  \n",
    "        test_loss = 0.0\n",
    "        correct, total = 0, 0\n",
    "        for i, batch in enumerate(test_rdl_ptr):\n",
    "            x_ptr, y_gt_ptr = batch[0], batch[1]\n",
    "            # forward pass\n",
    "            activs_ptr = ecg_client_ptr(x_ptr)\n",
    "            activs = activs_ptr.clone().get(request_block=True)\n",
    "            y_hat = ecg_server(activs)\n",
    "            # the server asks to access ground truths in plain text\n",
    "            y_gt = y_gt_ptr.get_copy()\n",
    "            # calculate test loss\n",
    "            loss = criterion(y_hat, y_gt)\n",
    "            test_loss += loss.item()\n",
    "            correct += torch.sum(y_hat.argmax(dim=1) == y_gt).item()\n",
    "            total += len(y_gt)\n",
    "\n",
    "        test_losses.append(test_loss / total_batch)\n",
    "        test_accs.append(correct / total)\n",
    "        print(f'test_loss: {test_losses[-1]: .4f}, test_acc: {test_accs[-1]*100: 2f}')\n",
    "        \n",
    "    if test_accs[-1] > best_test_acc:\n",
    "        best_test_acc = test_accs[-1]"
   ],
   "outputs": [
    {
     "output_type": "stream",
     "name": "stdout",
     "text": [
      "Epoch 1 - train "
     ]
    },
    {
     "output_type": "stream",
     "name": "stderr",
     "text": [
      "/anaconda/envs/SyftEnv/lib/python3.9/site-packages/syft/lib/torch/uppercase_tensor.py:30: UserWarning: The .grad attribute of a Tensor that is not a leaf Tensor is being accessed. Its .grad attribute won't be populated during autograd.backward(). If you indeed want the gradient for a non-leaf Tensor, use .retain_grad() on the non-leaf Tensor. If you access the non-leaf Tensor by mistake, make sure you access the leaf Tensor instead. See github.com/pytorch/pytorch/pull/30531 for more informations.\n",
      "  grad = getattr(obj, \"grad\", None)\n"
     ]
    },
    {
     "output_type": "stream",
     "name": "stdout",
     "text": [
      "loss:  1.0200, accuracy:  88.456021\n",
      "test_loss:  1.0147, test_acc:  89.052473\n",
      "Epoch 2 - train loss:  1.0179, accuracy:  88.705172\n",
      "test_loss:  1.0149, test_acc:  88.976972\n",
      "Epoch 3 - train loss:  1.0186, accuracy:  88.554171\n",
      "test_loss:  1.0138, test_acc:  88.992072\n",
      "Epoch 4 - train loss:  1.0172, accuracy:  88.629672\n",
      "test_loss:  1.0131, test_acc:  89.127973\n",
      "Epoch 5 - train loss:  1.0165, accuracy:  88.712722\n",
      "test_loss:  1.0107, test_acc:  89.346923\n",
      "Epoch 6 - train loss:  1.0144, accuracy:  88.931672\n",
      "test_loss:  1.0133, test_acc:  89.037373\n",
      "Epoch 7 - train loss:  1.0130, accuracy:  89.090223\n",
      "test_loss:  1.0077, test_acc:  89.588524\n",
      "Epoch 8 - train loss:  1.0106, accuracy:  89.309173\n",
      "test_loss:  1.0057, test_acc:  89.837675\n",
      "Epoch 9 - train loss:  1.0102, accuracy:  89.324273\n",
      "test_loss:  1.0074, test_acc:  89.565874\n",
      "Epoch 10 - train loss:  1.0090, accuracy:  89.422424\n",
      "test_loss:  1.0063, test_acc:  89.731974\n",
      "Epoch 11 - train loss:  1.0083, accuracy:  89.573424\n",
      "test_loss:  1.0041, test_acc:  89.890525\n",
      "Epoch 12 - train loss:  1.0093, accuracy:  89.384673\n",
      "test_loss:  1.0155, test_acc:  88.720272\n",
      "Epoch 13 - train loss:  1.0086, accuracy:  89.467724\n",
      "test_loss:  1.0032, test_acc:  90.026425\n",
      "Epoch 14 - train loss:  1.0088, accuracy:  89.467724\n",
      "test_loss:  1.0025, test_acc:  90.041525\n",
      "Epoch 15 - train loss:  1.0075, accuracy:  89.596074\n",
      "test_loss:  1.0033, test_acc:  89.966025\n",
      "Epoch 16 - train loss:  1.0075, accuracy:  89.565874\n",
      "test_loss:  1.0056, test_acc:  89.807475\n",
      "Epoch 17 - train loss:  1.0055, accuracy:  89.769724\n",
      "test_loss:  1.0034, test_acc:  89.905625\n",
      "Epoch 18 - train loss:  1.0063, accuracy:  89.739524\n",
      "test_loss:  1.0009, test_acc:  90.207626\n",
      "Epoch 19 - train loss:  1.0071, accuracy:  89.588524\n",
      "test_loss:  1.0023, test_acc:  90.026425\n",
      "Epoch 20 - train loss:  1.0054, accuracy:  89.799924\n",
      "test_loss:  1.0003, test_acc:  90.230276\n",
      "Epoch 21 - train loss:  1.0048, accuracy:  89.792374\n",
      "test_loss:  1.0022, test_acc:  90.071725\n",
      "Epoch 22 - train loss:  1.0061, accuracy:  89.686674\n",
      "test_loss:  1.0027, test_acc:  90.056625\n",
      "Epoch 23 - train loss:  1.0046, accuracy:  89.830125\n",
      "test_loss:  1.0024, test_acc:  90.101925\n",
      "Epoch 24 - train loss:  1.0042, accuracy:  89.890525\n",
      "test_loss:  1.0067, test_acc:  89.754624\n",
      "Epoch 25 - train loss:  1.0034, accuracy:  89.928275\n",
      "test_loss:  0.9995, test_acc:  90.305776\n",
      "Epoch 26 - train loss:  1.0038, accuracy:  89.898075\n",
      "test_loss:  0.9986, test_acc:  90.343526\n",
      "Epoch 27 - train loss:  1.0022, accuracy:  90.011325\n",
      "test_loss:  1.0061, test_acc:  89.686674\n",
      "Epoch 28 - train loss:  1.0034, accuracy:  89.905625\n",
      "test_loss:  0.9996, test_acc:  90.268026\n",
      "Epoch 29 - train loss:  1.0033, accuracy:  89.981125\n",
      "test_loss:  0.9996, test_acc:  90.290676\n",
      "Epoch 30 - train loss:  1.0026, accuracy:  90.018875\n",
      "test_loss:  0.9982, test_acc:  90.426576\n",
      "Epoch 31 - train loss:  1.0016, accuracy:  90.064175\n",
      "test_loss:  0.9975, test_acc:  90.449226\n",
      "Epoch 32 - train loss:  1.0025, accuracy:  89.958475\n",
      "test_loss:  0.9981, test_acc:  90.441676\n",
      "Epoch 33 - train loss:  1.0011, accuracy:  90.147225\n",
      "test_loss:  1.0002, test_acc:  90.245376\n",
      "Epoch 34 - train loss:  1.0011, accuracy:  90.132125\n",
      "test_loss:  0.9980, test_acc:  90.464326\n",
      "Epoch 35 - train loss:  1.0003, accuracy:  90.207626\n",
      "test_loss:  0.9966, test_acc:  90.532276\n",
      "Epoch 36 - train loss:  0.9998, accuracy:  90.245376\n",
      "test_loss:  0.9980, test_acc:  90.471876\n",
      "Epoch 37 - train loss:  1.0006, accuracy:  90.162325\n",
      "test_loss:  0.9974, test_acc:  90.426576\n",
      "Epoch 38 - train loss:  1.0013, accuracy:  90.094375\n",
      "test_loss:  0.9984, test_acc:  90.358626\n",
      "Epoch 39 - train loss:  1.0002, accuracy:  90.177425\n",
      "test_loss:  0.9965, test_acc:  90.562476\n",
      "Epoch 40 - train loss:  0.9996, accuracy:  90.268026\n",
      "test_loss:  1.0000, test_acc:  90.252926\n",
      "Epoch 41 - train loss:  0.9992, accuracy:  90.283126\n",
      "test_loss:  0.9983, test_acc:  90.343526\n",
      "Epoch 42 - train loss:  0.9989, accuracy:  90.343526\n",
      "test_loss:  0.9972, test_acc:  90.517176\n",
      "Epoch 43 - train loss:  0.9992, accuracy:  90.245376\n",
      "test_loss:  0.9984, test_acc:  90.328426\n",
      "Epoch 44 - train loss:  0.9987, accuracy:  90.335976\n",
      "test_loss:  0.9966, test_acc:  90.600227\n",
      "Epoch 45 - train loss:  0.9987, accuracy:  90.335976\n",
      "test_loss:  0.9962, test_acc:  90.517176\n",
      "Epoch 46 - train loss:  0.9993, accuracy:  90.268026\n",
      "test_loss:  1.0024, test_acc:  90.056625\n",
      "Epoch 47 - train loss:  0.9988, accuracy:  90.351076\n",
      "test_loss:  0.9967, test_acc:  90.517176\n",
      "Epoch 48 - train loss:  0.9981, accuracy:  90.381276\n",
      "test_loss:  0.9997, test_acc:  90.169875\n",
      "Epoch 49 - train loss:  0.9997, accuracy:  90.207626\n",
      "test_loss:  0.9953, test_acc:  90.637977\n",
      "Epoch 50 - train loss:  0.9985, accuracy:  90.283126\n",
      "test_loss:  0.9952, test_acc:  90.630427\n",
      "Epoch 51 - train loss:  0.9979, accuracy:  90.373726\n",
      "test_loss:  0.9963, test_acc:  90.570026\n",
      "Epoch 52 - train loss:  0.9980, accuracy:  90.396376\n",
      "test_loss:  0.9980, test_acc:  90.411476\n",
      "Epoch 53 - train loss:  0.9972, accuracy:  90.441676\n",
      "test_loss:  0.9957, test_acc:  90.562476\n",
      "Epoch 54 - train loss:  0.9996, accuracy:  90.260476\n",
      "test_loss:  0.9984, test_acc:  90.411476\n",
      "Epoch 55 - train loss:  0.9975, accuracy:  90.419026\n",
      "test_loss:  0.9947, test_acc:  90.705927\n",
      "Epoch 56 - train loss:  0.9973, accuracy:  90.449226\n",
      "test_loss:  0.9949, test_acc:  90.615327\n",
      "Epoch 57 - train loss:  0.9979, accuracy:  90.403926\n",
      "test_loss:  0.9965, test_acc:  90.509626\n",
      "Epoch 58 - train loss:  0.9976, accuracy:  90.456776\n",
      "test_loss:  0.9951, test_acc:  90.653077\n",
      "Epoch 59 - train loss:  0.9983, accuracy:  90.358626\n",
      "test_loss:  0.9952, test_acc:  90.622877\n",
      "Epoch 60 - train loss:  0.9963, accuracy:  90.517176\n",
      "test_loss:  0.9957, test_acc:  90.600227\n",
      "Epoch 61 - train loss:  0.9967, accuracy:  90.486976\n",
      "test_loss:  0.9947, test_acc:  90.637977\n",
      "Epoch 62 - train loss:  0.9972, accuracy:  90.426576\n",
      "test_loss:  0.9962, test_acc:  90.532276\n",
      "Epoch 63 - train loss:  0.9985, accuracy:  90.366176\n",
      "test_loss:  1.0035, test_acc:  90.018875\n",
      "Epoch 64 - train loss:  0.9984, accuracy:  90.335976\n",
      "test_loss:  0.9946, test_acc:  90.675727\n",
      "Epoch 65 - train loss:  0.9969, accuracy:  90.441676\n",
      "test_loss:  0.9951, test_acc:  90.690827\n",
      "Epoch 66 - train loss:  0.9968, accuracy:  90.471876\n",
      "test_loss:  0.9941, test_acc:  90.743677\n",
      "Epoch 67 - train loss:  0.9978, accuracy:  90.381276\n",
      "test_loss:  0.9951, test_acc:  90.645527\n",
      "Epoch 68 - train loss:  0.9967, accuracy:  90.486976\n",
      "test_loss:  0.9975, test_acc:  90.479426\n",
      "Epoch 69 - train loss:  0.9964, accuracy:  90.547376\n",
      "test_loss:  0.9935, test_acc:  90.826727\n",
      "Epoch 70 - train loss:  0.9944, accuracy:  90.698377\n",
      "test_loss:  0.9923, test_acc:  90.947527\n",
      "Epoch 71 - train loss:  0.9964, accuracy:  90.509626\n",
      "test_loss:  0.9937, test_acc:  90.766327\n",
      "Epoch 72 - train loss:  0.9944, accuracy:  90.721027\n",
      "test_loss:  0.9944, test_acc:  90.698377\n",
      "Epoch 73 - train loss:  0.9936, accuracy:  90.781427\n",
      "test_loss:  0.9932, test_acc:  90.856927\n",
      "Epoch 74 - train loss:  0.9949, accuracy:  90.645527\n",
      "test_loss:  0.9932, test_acc:  90.864477\n",
      "Epoch 75 - train loss:  0.9928, accuracy:  90.841827\n",
      "test_loss:  0.9920, test_acc:  90.932427\n",
      "Epoch 76 - train loss:  0.9920, accuracy:  90.947527\n",
      "test_loss:  0.9910, test_acc:  91.060778\n",
      "Epoch 77 - train loss:  0.9908, accuracy:  91.083428\n",
      "test_loss:  1.0030, test_acc:  89.709324\n",
      "Epoch 78 - train loss:  0.9858, accuracy:  91.589279\n",
      "test_loss:  0.9860, test_acc:  91.566629\n",
      "Epoch 79 - train loss:  0.9843, accuracy:  91.710079\n",
      "test_loss:  0.9859, test_acc:  91.619479\n",
      "Epoch 80 - train loss:  0.9830, accuracy:  91.868630\n",
      "test_loss:  0.9820, test_acc:  91.951680\n",
      "Epoch 81 - train loss:  0.9798, accuracy:  92.178180\n",
      "test_loss:  0.9804, test_acc:  92.140430\n",
      "Epoch 82 - train loss:  0.9802, accuracy:  92.163080\n",
      "test_loss:  0.9810, test_acc:  92.049830\n",
      "Epoch 83 - train loss:  0.9774, accuracy:  92.427331\n",
      "test_loss:  0.9855, test_acc:  91.710079\n",
      "Epoch 84 - train loss:  0.9768, accuracy:  92.480181\n",
      "test_loss:  0.9796, test_acc:  92.178180\n",
      "Epoch 85 - train loss:  0.9765, accuracy:  92.480181\n",
      "test_loss:  0.9801, test_acc:  92.178180\n",
      "Epoch 86 - train loss:  0.9751, accuracy:  92.691582\n",
      "test_loss:  0.9782, test_acc:  92.329181\n",
      "Epoch 87 - train loss:  0.9742, accuracy:  92.736882\n",
      "test_loss:  0.9784, test_acc:  92.276331\n",
      "Epoch 88 - train loss:  0.9750, accuracy:  92.699132\n",
      "test_loss:  0.9779, test_acc:  92.344281\n",
      "Epoch 89 - train loss:  0.9739, accuracy:  92.759532\n",
      "test_loss:  0.9773, test_acc:  92.404681\n",
      "Epoch 90 - train loss:  0.9749, accuracy:  92.691582\n",
      "test_loss:  0.9778, test_acc:  92.382031\n",
      "Epoch 91 - train loss:  0.9738, accuracy:  92.782182\n",
      "test_loss:  0.9790, test_acc:  92.283881\n",
      "Epoch 92 - train loss:  0.9732, accuracy:  92.842582\n",
      "test_loss:  0.9774, test_acc:  92.427331\n",
      "Epoch 93 - train loss:  0.9739, accuracy:  92.721782\n",
      "test_loss:  0.9770, test_acc:  92.427331\n",
      "Epoch 94 - train loss:  0.9729, accuracy:  92.850132\n",
      "test_loss:  0.9775, test_acc:  92.382031\n",
      "Epoch 95 - train loss:  0.9741, accuracy:  92.736882\n",
      "test_loss:  0.9764, test_acc:  92.487731\n",
      "Epoch 96 - train loss:  0.9738, accuracy:  92.744432\n",
      "test_loss:  0.9757, test_acc:  92.608532\n",
      "Epoch 97 - train loss:  0.9721, accuracy:  92.978482\n",
      "test_loss:  0.9791, test_acc:  92.223481\n",
      "Epoch 98 - train loss:  0.9723, accuracy:  92.910532\n",
      "test_loss:  0.9777, test_acc:  92.389581\n",
      "Epoch 99 - train loss:  0.9727, accuracy:  92.880332\n",
      "test_loss:  0.9775, test_acc:  92.397131\n",
      "Epoch 100 - train loss:  0.9719, accuracy:  92.925632\n",
      "test_loss:  0.9763, test_acc:  92.495281\n",
      "Epoch 101 - train loss:  0.9726, accuracy:  92.842582\n",
      "test_loss:  0.9765, test_acc:  92.502831\n",
      "Epoch 102 - train loss:  0.9727, accuracy:  92.865232\n",
      "test_loss:  0.9780, test_acc:  92.366931\n",
      "Epoch 103 - train loss:  0.9720, accuracy:  92.925632\n",
      "test_loss:  0.9760, test_acc:  92.563231\n",
      "Epoch 104 - train loss:  0.9718, accuracy:  92.955832\n",
      "test_loss:  0.9753, test_acc:  92.600982\n",
      "Epoch 105 - train loss:  0.9728, accuracy:  92.872782\n",
      "test_loss:  0.9785, test_acc:  92.321631\n",
      "Epoch 106 - train loss:  0.9719, accuracy:  92.940732\n",
      "test_loss:  0.9755, test_acc:  92.563231\n",
      "Epoch 107 - train loss:  0.9710, accuracy:  93.031333\n",
      "test_loss:  0.9752, test_acc:  92.570781\n",
      "Epoch 108 - train loss:  0.9703, accuracy:  93.084183\n",
      "test_loss:  0.9760, test_acc:  92.495281\n",
      "Epoch 109 - train loss:  0.9726, accuracy:  92.887882\n",
      "test_loss:  0.9766, test_acc:  92.487731\n",
      "Epoch 110 - train loss:  0.9714, accuracy:  93.008683\n",
      "test_loss:  0.9767, test_acc:  92.480181\n",
      "Epoch 111 - train loss:  0.9709, accuracy:  93.053983\n",
      "test_loss:  0.9763, test_acc:  92.495281\n",
      "Epoch 112 - train loss:  0.9721, accuracy:  92.910532\n",
      "test_loss:  0.9760, test_acc:  92.525481\n",
      "Epoch 113 - train loss:  0.9714, accuracy:  93.001133\n",
      "test_loss:  0.9781, test_acc:  92.351831\n",
      "Epoch 114 - train loss:  0.9716, accuracy:  92.978482\n",
      "test_loss:  0.9762, test_acc:  92.510381\n",
      "Epoch 115 - train loss:  0.9707, accuracy:  93.061533\n",
      "test_loss:  0.9767, test_acc:  92.457531\n",
      "Epoch 116 - train loss:  0.9707, accuracy:  93.069083\n",
      "test_loss:  0.9775, test_acc:  92.351831\n",
      "Epoch 117 - train loss:  0.9706, accuracy:  93.099283\n",
      "test_loss:  0.9769, test_acc:  92.412231\n",
      "Epoch 118 - train loss:  0.9699, accuracy:  93.159683\n",
      "test_loss:  0.9732, test_acc:  92.804832\n",
      "Epoch 119 - train loss:  0.9717, accuracy:  92.948282\n",
      "test_loss:  0.9759, test_acc:  92.578331\n",
      "Epoch 120 - train loss:  0.9698, accuracy:  93.144583\n",
      "test_loss:  0.9733, test_acc:  92.804832\n",
      "Epoch 121 - train loss:  0.9690, accuracy:  93.235183\n",
      "test_loss:  0.9733, test_acc:  92.819932\n",
      "Epoch 122 - train loss:  0.9700, accuracy:  93.137033\n",
      "test_loss:  0.9785, test_acc:  92.246131\n",
      "Epoch 123 - train loss:  0.9700, accuracy:  93.152133\n",
      "test_loss:  0.9767, test_acc:  92.412231\n",
      "Epoch 124 - train loss:  0.9689, accuracy:  93.235183\n",
      "test_loss:  0.9733, test_acc:  92.797282\n",
      "Epoch 125 - train loss:  0.9693, accuracy:  93.182333\n",
      "test_loss:  0.9741, test_acc:  92.714232\n",
      "Epoch 126 - train loss:  0.9684, accuracy:  93.280483\n",
      "test_loss:  0.9740, test_acc:  92.699132\n",
      "Epoch 127 - train loss:  0.9703, accuracy:  93.084183\n",
      "test_loss:  0.9733, test_acc:  92.827482\n",
      "Epoch 128 - train loss:  0.9682, accuracy:  93.318233\n",
      "test_loss:  0.9759, test_acc:  92.548131\n",
      "Epoch 129 - train loss:  0.9687, accuracy:  93.280483\n",
      "test_loss:  0.9733, test_acc:  92.797282\n",
      "Epoch 130 - train loss:  0.9674, accuracy:  93.393733\n",
      "test_loss:  0.9735, test_acc:  92.782182\n",
      "Epoch 131 - train loss:  0.9677, accuracy:  93.363533\n",
      "test_loss:  0.9725, test_acc:  92.865232\n",
      "Epoch 132 - train loss:  0.9669, accuracy:  93.454134\n",
      "test_loss:  0.9723, test_acc:  92.902982\n",
      "Epoch 133 - train loss:  0.9676, accuracy:  93.393733\n",
      "test_loss:  0.9730, test_acc:  92.880332\n",
      "Epoch 134 - train loss:  0.9683, accuracy:  93.303133\n",
      "test_loss:  0.9717, test_acc:  93.038883\n",
      "Epoch 135 - train loss:  0.9661, accuracy:  93.537184\n",
      "test_loss:  0.9727, test_acc:  92.850132\n",
      "Epoch 136 - train loss:  0.9678, accuracy:  93.363533\n",
      "test_loss:  0.9723, test_acc:  92.857682\n",
      "Epoch 137 - train loss:  0.9664, accuracy:  93.469234\n",
      "test_loss:  0.9734, test_acc:  92.812382\n",
      "Epoch 138 - train loss:  0.9662, accuracy:  93.514534\n",
      "test_loss:  0.9708, test_acc:  93.053983\n",
      "Epoch 139 - train loss:  0.9653, accuracy:  93.620234\n",
      "test_loss:  0.9730, test_acc:  92.835032\n",
      "Epoch 140 - train loss:  0.9665, accuracy:  93.476784\n",
      "test_loss:  0.9708, test_acc:  93.038883\n",
      "Epoch 141 - train loss:  0.9654, accuracy:  93.627784\n",
      "test_loss:  0.9705, test_acc:  93.076633\n",
      "Epoch 142 - train loss:  0.9663, accuracy:  93.491884\n",
      "test_loss:  0.9720, test_acc:  92.910532\n",
      "Epoch 143 - train loss:  0.9680, accuracy:  93.348433\n",
      "test_loss:  0.9748, test_acc:  92.653832\n",
      "Epoch 144 - train loss:  0.9701, accuracy:  93.121933\n",
      "test_loss:  0.9754, test_acc:  92.600982\n",
      "Epoch 145 - train loss:  0.9681, accuracy:  93.318233\n",
      "test_loss:  0.9752, test_acc:  92.563231\n",
      "Epoch 146 - train loss:  0.9676, accuracy:  93.378633\n",
      "test_loss:  0.9721, test_acc:  92.850132\n",
      "Epoch 147 - train loss:  0.9665, accuracy:  93.446584\n",
      "test_loss:  0.9735, test_acc:  92.789732\n",
      "Epoch 148 - train loss:  0.9653, accuracy:  93.620234\n",
      "test_loss:  0.9706, test_acc:  93.046433\n",
      "Epoch 149 - train loss:  0.9659, accuracy:  93.574934\n",
      "test_loss:  0.9721, test_acc:  92.887882\n",
      "Epoch 150 - train loss:  0.9667, accuracy:  93.469234\n",
      "test_loss:  0.9712, test_acc:  93.046433\n",
      "Epoch 151 - train loss:  0.9663, accuracy:  93.499434\n",
      "test_loss:  0.9719, test_acc:  92.880332\n",
      "Epoch 152 - train loss:  0.9670, accuracy:  93.431484\n",
      "test_loss:  0.9708, test_acc:  93.053983\n",
      "Epoch 153 - train loss:  0.9657, accuracy:  93.537184\n",
      "test_loss:  0.9716, test_acc:  92.955832\n",
      "Epoch 154 - train loss:  0.9657, accuracy:  93.567384\n",
      "test_loss:  0.9692, test_acc:  93.204983\n",
      "Epoch 155 - train loss:  0.9656, accuracy:  93.574934\n",
      "test_loss:  0.9696, test_acc:  93.167233\n",
      "Epoch 156 - train loss:  0.9661, accuracy:  93.499434\n",
      "test_loss:  0.9710, test_acc:  93.031333\n",
      "Epoch 157 - train loss:  0.9653, accuracy:  93.612684\n",
      "test_loss:  0.9718, test_acc:  92.948282\n",
      "Epoch 158 - train loss:  0.9649, accuracy:  93.627784\n",
      "test_loss:  0.9709, test_acc:  92.993582\n",
      "Epoch 159 - train loss:  0.9494, accuracy:  95.326538\n",
      "test_loss:  0.9327, test_acc:  97.214043\n",
      "Epoch 160 - train loss:  0.9233, accuracy:  98.165345\n",
      "test_loss:  0.9314, test_acc:  97.319743\n",
      "Epoch 161 - train loss:  0.9228, accuracy:  98.240846\n",
      "test_loss:  0.9278, test_acc:  97.689694\n",
      "Epoch 162 - train loss:  0.9213, accuracy:  98.361646\n",
      "test_loss:  0.9284, test_acc:  97.621744\n",
      "Epoch 163 - train loss:  0.9215, accuracy:  98.361646\n",
      "test_loss:  0.9289, test_acc:  97.599094\n",
      "Epoch 164 - train loss:  0.9220, accuracy:  98.286146\n",
      "test_loss:  0.9290, test_acc:  97.583994\n",
      "Epoch 165 - train loss:  0.9226, accuracy:  98.240846\n",
      "test_loss:  0.9300, test_acc:  97.440544\n",
      "Epoch 166 - train loss:  0.9224, accuracy:  98.248396\n",
      "test_loss:  0.9293, test_acc:  97.508494\n",
      "Epoch 167 - train loss:  0.9210, accuracy:  98.414496\n",
      "test_loss:  0.9289, test_acc:  97.606644\n",
      "Epoch 168 - train loss:  0.9213, accuracy:  98.384296\n",
      "test_loss:  0.9293, test_acc:  97.508494\n",
      "Epoch 169 - train loss:  0.9208, accuracy:  98.406946\n",
      "test_loss:  0.9267, test_acc:  97.818045\n",
      "Epoch 170 - train loss:  0.9202, accuracy:  98.474896\n",
      "test_loss:  0.9305, test_acc:  97.425444\n",
      "Epoch 171 - train loss:  0.9217, accuracy:  98.323896\n",
      "test_loss:  0.9265, test_acc:  97.833145\n",
      "Epoch 172 - train loss:  0.9195, accuracy:  98.565496\n",
      "test_loss:  0.9324, test_acc:  97.251793\n",
      "Epoch 173 - train loss:  0.9240, accuracy:  98.104945\n",
      "test_loss:  0.9307, test_acc:  97.402794\n",
      "Epoch 174 - train loss:  0.9221, accuracy:  98.286146\n",
      "test_loss:  0.9265, test_acc:  97.840695\n",
      "Epoch 175 - train loss:  0.9179, accuracy:  98.686297\n",
      "test_loss:  0.9305, test_acc:  97.432994\n",
      "Epoch 176 - train loss:  0.9185, accuracy:  98.640997\n",
      "test_loss:  0.9325, test_acc:  97.229143\n",
      "Epoch 177 - train loss:  0.9184, accuracy:  98.656097\n",
      "test_loss:  0.9259, test_acc:  97.870895\n",
      "Epoch 178 - train loss:  0.9163, accuracy:  98.890147\n",
      "test_loss:  0.9243, test_acc:  98.029445\n",
      "Epoch 179 - train loss:  0.9159, accuracy:  98.897697\n",
      "test_loss:  0.9244, test_acc:  98.097395\n",
      "Epoch 180 - train loss:  0.9161, accuracy:  98.875047\n",
      "test_loss:  0.9243, test_acc:  98.089845\n",
      "Epoch 181 - train loss:  0.9166, accuracy:  98.867497\n",
      "test_loss:  0.9255, test_acc:  97.953945\n",
      "Epoch 182 - train loss:  0.9161, accuracy:  98.905247\n",
      "test_loss:  0.9240, test_acc:  98.104945\n",
      "Epoch 183 - train loss:  0.9162, accuracy:  98.890147\n",
      "test_loss:  0.9238, test_acc:  98.067195\n",
      "Epoch 184 - train loss:  0.9171, accuracy:  98.776897\n",
      "test_loss:  0.9346, test_acc:  96.987542\n",
      "Epoch 185 - train loss:  0.9171, accuracy:  98.776897\n",
      "test_loss:  0.9267, test_acc:  97.787844\n",
      "Epoch 186 - train loss:  0.9163, accuracy:  98.882597\n",
      "test_loss:  0.9234, test_acc:  98.150245\n",
      "Epoch 187 - train loss:  0.9151, accuracy:  98.988297\n",
      "test_loss:  0.9241, test_acc:  98.074745\n",
      "Epoch 188 - train loss:  0.9163, accuracy:  98.875047\n",
      "test_loss:  0.9249, test_acc:  98.006795\n",
      "Epoch 189 - train loss:  0.9171, accuracy:  98.807097\n",
      "test_loss:  0.9258, test_acc:  97.878445\n",
      "Epoch 190 - train loss:  0.9167, accuracy:  98.852397\n",
      "test_loss:  0.9297, test_acc:  97.478294\n",
      "Epoch 191 - train loss:  0.9176, accuracy:  98.739147\n",
      "test_loss:  0.9237, test_acc:  98.112495\n",
      "Epoch 192 - train loss:  0.9158, accuracy:  98.897697\n",
      "test_loss:  0.9255, test_acc:  97.908645\n",
      "Epoch 193 - train loss:  0.9164, accuracy:  98.859947\n",
      "test_loss:  0.9251, test_acc:  97.946395\n",
      "Epoch 194 - train loss:  0.9166, accuracy:  98.837297\n",
      "test_loss:  0.9276, test_acc:  97.742544\n",
      "Epoch 195 - train loss:  0.9153, accuracy:  98.988297\n",
      "test_loss:  0.9227, test_acc:  98.225746\n",
      "Epoch 196 - train loss:  0.9154, accuracy:  98.958097\n",
      "test_loss:  0.9229, test_acc:  98.203096\n",
      "Epoch 197 - train loss:  0.9174, accuracy:  98.769347\n",
      "test_loss:  0.9234, test_acc:  98.127595\n",
      "Epoch 198 - train loss:  0.9146, accuracy:  99.026048\n",
      "test_loss:  0.9237, test_acc:  98.074745\n",
      "Epoch 199 - train loss:  0.9150, accuracy:  99.003398\n",
      "test_loss:  0.9244, test_acc:  98.044545\n",
      "Epoch 200 - train loss:  0.9161, accuracy:  98.867497\n",
      "test_loss:  0.9253, test_acc:  97.908645\n",
      "Epoch 201 - train loss:  0.9159, accuracy:  98.905247\n",
      "test_loss:  0.9235, test_acc:  98.127595\n",
      "Epoch 202 - train loss:  0.9165, accuracy:  98.837297\n",
      "test_loss:  0.9243, test_acc:  98.067195\n",
      "Epoch 203 - train loss:  0.9164, accuracy:  98.852397\n",
      "test_loss:  0.9250, test_acc:  97.961495\n",
      "Epoch 204 - train loss:  0.9159, accuracy:  98.905247\n",
      "test_loss:  0.9235, test_acc:  98.150245\n",
      "Epoch 205 - train loss:  0.9157, accuracy:  98.935447\n",
      "test_loss:  0.9247, test_acc:  97.991695\n",
      "Epoch 206 - train loss:  0.9146, accuracy:  99.033598\n",
      "test_loss:  0.9231, test_acc:  98.187995\n",
      "Epoch 207 - train loss:  0.9156, accuracy:  98.935447\n",
      "test_loss:  0.9231, test_acc:  98.195545\n",
      "Epoch 208 - train loss:  0.9167, accuracy:  98.829747\n",
      "test_loss:  0.9267, test_acc:  97.772744\n",
      "Epoch 209 - train loss:  0.9159, accuracy:  98.897697\n",
      "test_loss:  0.9243, test_acc:  98.021895\n",
      "Epoch 210 - train loss:  0.9170, accuracy:  98.784447\n",
      "test_loss:  0.9235, test_acc:  98.089845\n",
      "Epoch 211 - train loss:  0.9166, accuracy:  98.829747\n",
      "test_loss:  0.9260, test_acc:  97.863345\n",
      "Epoch 212 - train loss:  0.9156, accuracy:  98.927897\n",
      "test_loss:  0.9220, test_acc:  98.271046\n",
      "Epoch 213 - train loss:  0.9153, accuracy:  98.958097\n",
      "test_loss:  0.9227, test_acc:  98.233296\n",
      "Epoch 214 - train loss:  0.9155, accuracy:  98.958097\n",
      "test_loss:  0.9245, test_acc:  98.029445\n",
      "Epoch 215 - train loss:  0.9165, accuracy:  98.822197\n",
      "test_loss:  0.9241, test_acc:  98.036995\n",
      "Epoch 216 - train loss:  0.9151, accuracy:  98.995847\n",
      "test_loss:  0.9233, test_acc:  98.142695\n",
      "Epoch 217 - train loss:  0.9145, accuracy:  99.026048\n",
      "test_loss:  0.9287, test_acc:  97.561344\n",
      "Epoch 218 - train loss:  0.9161, accuracy:  98.890147\n",
      "test_loss:  0.9234, test_acc:  98.120045\n",
      "Epoch 219 - train loss:  0.9147, accuracy:  99.026048\n",
      "test_loss:  0.9235, test_acc:  98.135145\n",
      "Epoch 220 - train loss:  0.9153, accuracy:  98.980747\n",
      "test_loss:  0.9248, test_acc:  97.999245\n",
      "Epoch 221 - train loss:  0.9150, accuracy:  98.973197\n",
      "test_loss:  0.9244, test_acc:  98.029445\n",
      "Epoch 222 - train loss:  0.9149, accuracy:  99.018498\n",
      "test_loss:  0.9230, test_acc:  98.187995\n",
      "Epoch 223 - train loss:  0.9148, accuracy:  99.010948\n",
      "test_loss:  0.9241, test_acc:  98.036995\n",
      "Epoch 224 - train loss:  0.9163, accuracy:  98.875047\n",
      "test_loss:  0.9276, test_acc:  97.674594\n",
      "Epoch 225 - train loss:  0.9190, accuracy:  98.603247\n",
      "test_loss:  0.9252, test_acc:  97.961495\n",
      "Epoch 226 - train loss:  0.9157, accuracy:  98.912797\n",
      "test_loss:  0.9247, test_acc:  97.999245\n",
      "Epoch 227 - train loss:  0.9152, accuracy:  98.973197\n",
      "test_loss:  0.9228, test_acc:  98.187995\n",
      "Epoch 228 - train loss:  0.9144, accuracy:  99.041148\n",
      "test_loss:  0.9236, test_acc:  98.127595\n",
      "Epoch 229 - train loss:  0.9153, accuracy:  98.935447\n",
      "test_loss:  0.9265, test_acc:  97.787844\n",
      "Epoch 230 - train loss:  0.9149, accuracy:  98.988297\n",
      "test_loss:  0.9235, test_acc:  98.112495\n",
      "Epoch 231 - train loss:  0.9158, accuracy:  98.935447\n",
      "test_loss:  0.9241, test_acc:  98.036995\n",
      "Epoch 232 - train loss:  0.9154, accuracy:  98.942997\n",
      "test_loss:  0.9245, test_acc:  98.029445\n",
      "Epoch 233 - train loss:  0.9185, accuracy:  98.640997\n",
      "test_loss:  0.9247, test_acc:  97.991695\n",
      "Epoch 234 - train loss:  0.9151, accuracy:  98.942997\n",
      "test_loss:  0.9239, test_acc:  98.052095\n",
      "Epoch 235 - train loss:  0.9151, accuracy:  98.988297\n",
      "test_loss:  0.9230, test_acc:  98.157795\n",
      "Epoch 236 - train loss:  0.9150, accuracy:  99.003398\n",
      "test_loss:  0.9236, test_acc:  98.127595\n",
      "Epoch 237 - train loss:  0.9164, accuracy:  98.852397\n",
      "test_loss:  0.9247, test_acc:  98.014345\n",
      "Epoch 238 - train loss:  0.9153, accuracy:  98.942997\n",
      "test_loss:  0.9235, test_acc:  98.097395\n",
      "Epoch 239 - train loss:  0.9149, accuracy:  99.018498\n",
      "test_loss:  0.9229, test_acc:  98.180445\n",
      "Epoch 240 - train loss:  0.9150, accuracy:  98.988297\n",
      "test_loss:  0.9241, test_acc:  98.044545\n",
      "Epoch 241 - train loss:  0.9149, accuracy:  98.995847\n",
      "test_loss:  0.9237, test_acc:  98.104945\n",
      "Epoch 242 - train loss:  0.9143, accuracy:  99.078898\n",
      "test_loss:  0.9226, test_acc:  98.180445\n",
      "Epoch 243 - train loss:  0.9172, accuracy:  98.776897\n",
      "test_loss:  0.9278, test_acc:  97.667044\n",
      "Epoch 244 - train loss:  0.9156, accuracy:  98.920347\n",
      "test_loss:  0.9228, test_acc:  98.172895\n",
      "Epoch 245 - train loss:  0.9145, accuracy:  99.048698\n",
      "test_loss:  0.9229, test_acc:  98.172895\n",
      "Epoch 246 - train loss:  0.9141, accuracy:  99.078898\n",
      "test_loss:  0.9237, test_acc:  98.112495\n",
      "Epoch 247 - train loss:  0.9162, accuracy:  98.875047\n",
      "test_loss:  0.9234, test_acc:  98.112495\n",
      "Epoch 248 - train loss:  0.9140, accuracy:  99.086448\n",
      "test_loss:  0.9234, test_acc:  98.135145\n",
      "Epoch 249 - train loss:  0.9136, accuracy:  99.131748\n",
      "test_loss:  0.9219, test_acc:  98.278596\n",
      "Epoch 250 - train loss:  0.9155, accuracy:  98.920347\n",
      "test_loss:  0.9229, test_acc:  98.180445\n",
      "Epoch 251 - train loss:  0.9166, accuracy:  98.791997\n",
      "test_loss:  0.9278, test_acc:  97.697244\n",
      "Epoch 252 - train loss:  0.9147, accuracy:  99.018498\n",
      "test_loss:  0.9230, test_acc:  98.195545\n",
      "Epoch 253 - train loss:  0.9147, accuracy:  99.003398\n",
      "test_loss:  0.9224, test_acc:  98.233296\n",
      "Epoch 254 - train loss:  0.9150, accuracy:  98.995847\n",
      "test_loss:  0.9340, test_acc:  97.010193\n",
      "Epoch 255 - train loss:  0.9159, accuracy:  98.890147\n",
      "test_loss:  0.9231, test_acc:  98.195545\n",
      "Epoch 256 - train loss:  0.9148, accuracy:  99.018498\n",
      "test_loss:  0.9231, test_acc:  98.165345\n",
      "Epoch 257 - train loss:  0.9136, accuracy:  99.116648\n",
      "test_loss:  0.9238, test_acc:  98.089845\n",
      "Epoch 258 - train loss:  0.9154, accuracy:  98.965647\n",
      "test_loss:  0.9243, test_acc:  98.036995\n",
      "Epoch 259 - train loss:  0.9137, accuracy:  99.116648\n",
      "test_loss:  0.9220, test_acc:  98.263496\n",
      "Epoch 260 - train loss:  0.9139, accuracy:  99.078898\n",
      "test_loss:  0.9237, test_acc:  98.104945\n",
      "Epoch 261 - train loss:  0.9141, accuracy:  99.086448\n",
      "test_loss:  0.9234, test_acc:  98.157795\n",
      "Epoch 262 - train loss:  0.9136, accuracy:  99.131748\n",
      "test_loss:  0.9233, test_acc:  98.142695\n",
      "Epoch 263 - train loss:  0.9164, accuracy:  98.837297\n",
      "test_loss:  0.9272, test_acc:  97.780294\n",
      "Epoch 264 - train loss:  0.9147, accuracy:  99.018498\n",
      "test_loss:  0.9243, test_acc:  98.029445\n",
      "Epoch 265 - train loss:  0.9138, accuracy:  99.093998\n",
      "test_loss:  0.9224, test_acc:  98.233296\n",
      "Epoch 266 - train loss:  0.9137, accuracy:  99.116648\n",
      "test_loss:  0.9284, test_acc:  97.644394\n",
      "Epoch 267 - train loss:  0.9172, accuracy:  98.769347\n",
      "test_loss:  0.9264, test_acc:  97.825595\n",
      "Epoch 268 - train loss:  0.9162, accuracy:  98.882597\n",
      "test_loss:  0.9238, test_acc:  98.127595\n",
      "Epoch 269 - train loss:  0.9148, accuracy:  99.018498\n",
      "test_loss:  0.9227, test_acc:  98.203096\n",
      "Epoch 270 - train loss:  0.9140, accuracy:  99.086448\n",
      "test_loss:  0.9217, test_acc:  98.323896\n",
      "Epoch 271 - train loss:  0.9148, accuracy:  98.988297\n",
      "test_loss:  0.9237, test_acc:  98.104945\n",
      "Epoch 272 - train loss:  0.9141, accuracy:  99.086448\n",
      "test_loss:  0.9322, test_acc:  97.259343\n",
      "Epoch 273 - train loss:  0.9176, accuracy:  98.739147\n",
      "test_loss:  0.9235, test_acc:  98.142695\n",
      "Epoch 274 - train loss:  0.9138, accuracy:  99.116648\n",
      "test_loss:  0.9233, test_acc:  98.150245\n",
      "Epoch 275 - train loss:  0.9138, accuracy:  99.116648\n",
      "test_loss:  0.9218, test_acc:  98.308796\n",
      "Epoch 276 - train loss:  0.9142, accuracy:  99.056248\n",
      "test_loss:  0.9213, test_acc:  98.338996\n",
      "Epoch 277 - train loss:  0.9149, accuracy:  98.965647\n",
      "test_loss:  0.9242, test_acc:  98.052095\n",
      "Epoch 278 - train loss:  0.9153, accuracy:  98.973197\n",
      "test_loss:  0.9235, test_acc:  98.142695\n",
      "Epoch 279 - train loss:  0.9149, accuracy:  99.033598\n",
      "test_loss:  0.9228, test_acc:  98.225746\n",
      "Epoch 280 - train loss:  0.9141, accuracy:  99.093998\n",
      "test_loss:  0.9234, test_acc:  98.120045\n",
      "Epoch 281 - train loss:  0.9145, accuracy:  99.026048\n",
      "test_loss:  0.9257, test_acc:  97.908645\n",
      "Epoch 282 - train loss:  0.9158, accuracy:  98.905247\n",
      "test_loss:  0.9244, test_acc:  97.999245\n",
      "Epoch 283 - train loss:  0.9136, accuracy:  99.116648\n",
      "test_loss:  0.9228, test_acc:  98.195545\n",
      "Epoch 284 - train loss:  0.9131, accuracy:  99.184598\n",
      "test_loss:  0.9214, test_acc:  98.338996\n",
      "Epoch 285 - train loss:  0.9128, accuracy:  99.199698\n",
      "test_loss:  0.9236, test_acc:  98.127595\n",
      "Epoch 286 - train loss:  0.9139, accuracy:  99.116648\n",
      "test_loss:  0.9261, test_acc:  97.818045\n",
      "Epoch 287 - train loss:  0.9165, accuracy:  98.807097\n",
      "test_loss:  0.9246, test_acc:  98.006795\n",
      "Epoch 288 - train loss:  0.9139, accuracy:  99.086448\n",
      "test_loss:  0.9228, test_acc:  98.180445\n",
      "Epoch 289 - train loss:  0.9137, accuracy:  99.124198\n",
      "test_loss:  0.9205, test_acc:  98.429596\n",
      "Epoch 290 - train loss:  0.9134, accuracy:  99.139298\n",
      "test_loss:  0.9199, test_acc:  98.497546\n",
      "Epoch 291 - train loss:  0.9105, accuracy:  99.441299\n",
      "test_loss:  0.9190, test_acc:  98.595696\n",
      "Epoch 292 - train loss:  0.9118, accuracy:  99.312948\n",
      "test_loss:  0.9201, test_acc:  98.437146\n",
      "Epoch 293 - train loss:  0.9105, accuracy:  99.441299\n",
      "test_loss:  0.9190, test_acc:  98.565496\n",
      "Epoch 294 - train loss:  0.9095, accuracy:  99.531899\n",
      "test_loss:  0.9194, test_acc:  98.542846\n",
      "Epoch 295 - train loss:  0.9128, accuracy:  99.207248\n",
      "test_loss:  0.9200, test_acc:  98.497546\n",
      "Epoch 296 - train loss:  0.9106, accuracy:  99.418649\n",
      "test_loss:  0.9186, test_acc:  98.625897\n",
      "Epoch 297 - train loss:  0.9115, accuracy:  99.343148\n",
      "test_loss:  0.9201, test_acc:  98.459796\n",
      "Epoch 298 - train loss:  0.9096, accuracy:  99.531899\n",
      "test_loss:  0.9187, test_acc:  98.625897\n",
      "Epoch 299 - train loss:  0.9100, accuracy:  99.479049\n",
      "test_loss:  0.9185, test_acc:  98.618347\n",
      "Epoch 300 - train loss:  0.9102, accuracy:  99.463949\n",
      "test_loss:  0.9194, test_acc:  98.550396\n",
      "Epoch 301 - train loss:  0.9103, accuracy:  99.456399\n",
      "test_loss:  0.9194, test_acc:  98.565496\n",
      "Epoch 302 - train loss:  0.9108, accuracy:  99.388448\n",
      "test_loss:  0.9206, test_acc:  98.422046\n",
      "Epoch 303 - train loss:  0.9103, accuracy:  99.448849\n",
      "test_loss:  0.9184, test_acc:  98.663647\n",
      "Epoch 304 - train loss:  0.9095, accuracy:  99.539449\n",
      "test_loss:  0.9194, test_acc:  98.565496\n",
      "Epoch 305 - train loss:  0.9100, accuracy:  99.486599\n",
      "test_loss:  0.9185, test_acc:  98.640997\n",
      "Epoch 306 - train loss:  0.9096, accuracy:  99.524349\n",
      "test_loss:  0.9218, test_acc:  98.271046\n",
      "Epoch 307 - train loss:  0.9113, accuracy:  99.350698\n",
      "test_loss:  0.9189, test_acc:  98.610797\n",
      "Epoch 308 - train loss:  0.9107, accuracy:  99.403549\n",
      "test_loss:  0.9200, test_acc:  98.474896\n",
      "Epoch 309 - train loss:  0.9107, accuracy:  99.395998\n",
      "test_loss:  0.9240, test_acc:  98.052095\n",
      "Epoch 310 - train loss:  0.9124, accuracy:  99.244998\n",
      "test_loss:  0.9212, test_acc:  98.369196\n",
      "Epoch 311 - train loss:  0.9101, accuracy:  99.479049\n",
      "test_loss:  0.9184, test_acc:  98.656097\n",
      "Epoch 312 - train loss:  0.9096, accuracy:  99.546999\n",
      "test_loss:  0.9188, test_acc:  98.610797\n",
      "Epoch 313 - train loss:  0.9103, accuracy:  99.463949\n",
      "test_loss:  0.9177, test_acc:  98.731597\n",
      "Epoch 314 - train loss:  0.9096, accuracy:  99.531899\n",
      "test_loss:  0.9188, test_acc:  98.588146\n",
      "Epoch 315 - train loss:  0.9093, accuracy:  99.554549\n",
      "test_loss:  0.9176, test_acc:  98.731597\n",
      "Epoch 316 - train loss:  0.9104, accuracy:  99.456399\n",
      "test_loss:  0.9192, test_acc:  98.542846\n",
      "Epoch 317 - train loss:  0.9099, accuracy:  99.486599\n",
      "test_loss:  0.9186, test_acc:  98.633447\n",
      "Epoch 318 - train loss:  0.9136, accuracy:  99.116648\n",
      "test_loss:  0.9183, test_acc:  98.633447\n",
      "Epoch 319 - train loss:  0.9092, accuracy:  99.577199\n",
      "test_loss:  0.9186, test_acc:  98.640997\n",
      "Epoch 320 - train loss:  0.9109, accuracy:  99.403549\n",
      "test_loss:  0.9196, test_acc:  98.497546\n",
      "Epoch 321 - train loss:  0.9158, accuracy:  98.875047\n",
      "test_loss:  0.9198, test_acc:  98.467346\n",
      "Epoch 322 - train loss:  0.9104, accuracy:  99.448849\n",
      "test_loss:  0.9200, test_acc:  98.467346\n",
      "Epoch 323 - train loss:  0.9091, accuracy:  99.584749\n",
      "test_loss:  0.9178, test_acc:  98.693847\n",
      "Epoch 324 - train loss:  0.9092, accuracy:  99.577199\n",
      "test_loss:  0.9174, test_acc:  98.724047\n",
      "Epoch 325 - train loss:  0.9095, accuracy:  99.554549\n",
      "test_loss:  0.9175, test_acc:  98.731597\n",
      "Epoch 326 - train loss:  0.9095, accuracy:  99.531899\n",
      "test_loss:  0.9181, test_acc:  98.686297\n",
      "Epoch 327 - train loss:  0.9109, accuracy:  99.395998\n",
      "test_loss:  0.9208, test_acc:  98.422046\n",
      "Epoch 328 - train loss:  0.9096, accuracy:  99.524349\n",
      "test_loss:  0.9186, test_acc:  98.573046\n",
      "Epoch 329 - train loss:  0.9099, accuracy:  99.501699\n",
      "test_loss:  0.9262, test_acc:  97.825595\n",
      "Epoch 330 - train loss:  0.9103, accuracy:  99.471499\n",
      "test_loss:  0.9191, test_acc:  98.542846\n",
      "Epoch 331 - train loss:  0.9101, accuracy:  99.479049\n",
      "test_loss:  0.9172, test_acc:  98.746697\n",
      "Epoch 332 - train loss:  0.9091, accuracy:  99.577199\n",
      "test_loss:  0.9179, test_acc:  98.701397\n",
      "Epoch 333 - train loss:  0.9101, accuracy:  99.479049\n",
      "test_loss:  0.9184, test_acc:  98.625897\n",
      "Epoch 334 - train loss:  0.9102, accuracy:  99.448849\n",
      "test_loss:  0.9248, test_acc:  98.052095\n",
      "Epoch 335 - train loss:  0.9124, accuracy:  99.207248\n",
      "test_loss:  0.9194, test_acc:  98.542846\n",
      "Epoch 336 - train loss:  0.9090, accuracy:  99.592299\n",
      "test_loss:  0.9183, test_acc:  98.633447\n",
      "Epoch 337 - train loss:  0.9088, accuracy:  99.607399\n",
      "test_loss:  0.9185, test_acc:  98.603247\n",
      "Epoch 338 - train loss:  0.9088, accuracy:  99.607399\n",
      "test_loss:  0.9201, test_acc:  98.467346\n",
      "Epoch 339 - train loss:  0.9123, accuracy:  99.267648\n",
      "test_loss:  0.9211, test_acc:  98.361646\n",
      "Epoch 340 - train loss:  0.9114, accuracy:  99.335598\n",
      "test_loss:  0.9190, test_acc:  98.573046\n",
      "Epoch 341 - train loss:  0.9099, accuracy:  99.509249\n",
      "test_loss:  0.9181, test_acc:  98.648547\n",
      "Epoch 342 - train loss:  0.9107, accuracy:  99.418649\n",
      "test_loss:  0.9199, test_acc:  98.497546\n",
      "Epoch 343 - train loss:  0.9100, accuracy:  99.471499\n",
      "test_loss:  0.9188, test_acc:  98.610797\n",
      "Epoch 344 - train loss:  0.9099, accuracy:  99.494149\n",
      "test_loss:  0.9174, test_acc:  98.746697\n",
      "Epoch 345 - train loss:  0.9096, accuracy:  99.531899\n",
      "test_loss:  0.9189, test_acc:  98.580596\n",
      "Epoch 346 - train loss:  0.9092, accuracy:  99.569649\n",
      "test_loss:  0.9193, test_acc:  98.535296\n",
      "Epoch 347 - train loss:  0.9102, accuracy:  99.471499\n",
      "test_loss:  0.9175, test_acc:  98.746697\n",
      "Epoch 348 - train loss:  0.9109, accuracy:  99.380898\n",
      "test_loss:  0.9196, test_acc:  98.512646\n",
      "Epoch 349 - train loss:  0.9103, accuracy:  99.448849\n",
      "test_loss:  0.9188, test_acc:  98.603247\n",
      "Epoch 350 - train loss:  0.9090, accuracy:  99.592299\n",
      "test_loss:  0.9170, test_acc:  98.784447\n",
      "Epoch 351 - train loss:  0.9087, accuracy:  99.614949\n",
      "test_loss:  0.9164, test_acc:  98.852397\n",
      "Epoch 352 - train loss:  0.9084, accuracy:  99.637599\n",
      "test_loss:  0.9166, test_acc:  98.814647\n",
      "Epoch 353 - train loss:  0.9083, accuracy:  99.652699\n",
      "test_loss:  0.9199, test_acc:  98.512646\n",
      "Epoch 354 - train loss:  0.9142, accuracy:  99.048698\n",
      "test_loss:  0.9216, test_acc:  98.308796\n",
      "Epoch 355 - train loss:  0.9128, accuracy:  99.199698\n",
      "test_loss:  0.9181, test_acc:  98.595696\n",
      "Epoch 356 - train loss:  0.9098, accuracy:  99.486599\n",
      "test_loss:  0.9202, test_acc:  98.474896\n",
      "Epoch 357 - train loss:  0.9094, accuracy:  99.539449\n",
      "test_loss:  0.9178, test_acc:  98.678747\n",
      "Epoch 358 - train loss:  0.9086, accuracy:  99.630049\n",
      "test_loss:  0.9188, test_acc:  98.618347\n",
      "Epoch 359 - train loss:  0.9101, accuracy:  99.479049\n",
      "test_loss:  0.9205, test_acc:  98.414496\n",
      "Epoch 360 - train loss:  0.9098, accuracy:  99.516799\n",
      "test_loss:  0.9230, test_acc:  98.165345\n",
      "Epoch 361 - train loss:  0.9113, accuracy:  99.350698\n",
      "test_loss:  0.9198, test_acc:  98.520196\n",
      "Epoch 362 - train loss:  0.9111, accuracy:  99.358248\n",
      "test_loss:  0.9195, test_acc:  98.520196\n",
      "Epoch 363 - train loss:  0.9108, accuracy:  99.388448\n",
      "test_loss:  0.9202, test_acc:  98.452246\n",
      "Epoch 364 - train loss:  0.9114, accuracy:  99.350698\n",
      "test_loss:  0.9204, test_acc:  98.391846\n",
      "Epoch 365 - train loss:  0.9097, accuracy:  99.516799\n",
      "test_loss:  0.9184, test_acc:  98.656097\n",
      "Epoch 366 - train loss:  0.9107, accuracy:  99.403549\n",
      "test_loss:  0.9204, test_acc:  98.444696\n",
      "Epoch 367 - train loss:  0.9100, accuracy:  99.486599\n",
      "test_loss:  0.9175, test_acc:  98.739147\n",
      "Epoch 368 - train loss:  0.9092, accuracy:  99.569649\n",
      "test_loss:  0.9199, test_acc:  98.467346\n",
      "Epoch 369 - train loss:  0.9092, accuracy:  99.562099\n",
      "test_loss:  0.9187, test_acc:  98.610797\n",
      "Epoch 370 - train loss:  0.9104, accuracy:  99.441299\n",
      "test_loss:  0.9191, test_acc:  98.580596\n",
      "Epoch 371 - train loss:  0.9105, accuracy:  99.448849\n",
      "test_loss:  0.9190, test_acc:  98.573046\n",
      "Epoch 372 - train loss:  0.9090, accuracy:  99.584749\n",
      "test_loss:  0.9185, test_acc:  98.625897\n",
      "Epoch 373 - train loss:  0.9088, accuracy:  99.607399\n",
      "test_loss:  0.9185, test_acc:  98.625897\n",
      "Epoch 374 - train loss:  0.9088, accuracy:  99.599849\n",
      "test_loss:  0.9175, test_acc:  98.716497\n",
      "Epoch 375 - train loss:  0.9112, accuracy:  99.365798\n",
      "test_loss:  0.9189, test_acc:  98.588146\n",
      "Epoch 376 - train loss:  0.9090, accuracy:  99.584749\n",
      "test_loss:  0.9207, test_acc:  98.399396\n",
      "Epoch 377 - train loss:  0.9122, accuracy:  99.267648\n",
      "test_loss:  0.9179, test_acc:  98.671197\n",
      "Epoch 378 - train loss:  0.9108, accuracy:  99.388448\n",
      "test_loss:  0.9186, test_acc:  98.618347\n",
      "Epoch 379 - train loss:  0.9097, accuracy:  99.516799\n",
      "test_loss:  0.9202, test_acc:  98.444696\n",
      "Epoch 380 - train loss:  0.9100, accuracy:  99.501699\n",
      "test_loss:  0.9203, test_acc:  98.429596\n",
      "Epoch 381 - train loss:  0.9098, accuracy:  99.509249\n",
      "test_loss:  0.9187, test_acc:  98.618347\n",
      "Epoch 382 - train loss:  0.9098, accuracy:  99.501699\n",
      "test_loss:  0.9193, test_acc:  98.580596\n",
      "Epoch 383 - train loss:  0.9099, accuracy:  99.486599\n",
      "test_loss:  0.9176, test_acc:  98.724047\n",
      "Epoch 384 - train loss:  0.9092, accuracy:  99.554549\n",
      "test_loss:  0.9174, test_acc:  98.724047\n",
      "Epoch 385 - train loss:  0.9089, accuracy:  99.592299\n",
      "test_loss:  0.9172, test_acc:  98.746697\n",
      "Epoch 386 - train loss:  0.9087, accuracy:  99.614949\n",
      "test_loss:  0.9176, test_acc:  98.701397\n",
      "Epoch 387 - train loss:  0.9098, accuracy:  99.501699\n",
      "test_loss:  0.9299, test_acc:  97.463194\n",
      "Epoch 388 - train loss:  0.9116, accuracy:  99.297848\n",
      "test_loss:  0.9198, test_acc:  98.512646\n",
      "Epoch 389 - train loss:  0.9096, accuracy:  99.524349\n",
      "test_loss:  0.9174, test_acc:  98.716497\n",
      "Epoch 390 - train loss:  0.9088, accuracy:  99.607399\n",
      "test_loss:  0.9172, test_acc:  98.731597\n",
      "Epoch 391 - train loss:  0.9096, accuracy:  99.524349\n",
      "test_loss:  0.9188, test_acc:  98.625897\n",
      "Epoch 392 - train loss:  0.9099, accuracy:  99.494149\n",
      "test_loss:  0.9205, test_acc:  98.429596\n",
      "Epoch 393 - train loss:  0.9105, accuracy:  99.441299\n",
      "test_loss:  0.9174, test_acc:  98.746697\n",
      "Epoch 394 - train loss:  0.9095, accuracy:  99.546999\n",
      "test_loss:  0.9177, test_acc:  98.678747\n",
      "Epoch 395 - train loss:  0.9091, accuracy:  99.584749\n",
      "test_loss:  0.9184, test_acc:  98.656097\n",
      "Epoch 396 - train loss:  0.9097, accuracy:  99.509249\n",
      "test_loss:  0.9212, test_acc:  98.331446\n",
      "Epoch 397 - train loss:  0.9104, accuracy:  99.433749\n",
      "test_loss:  0.9177, test_acc:  98.693847\n",
      "Epoch 398 - train loss:  0.9087, accuracy:  99.614949\n",
      "test_loss:  0.9174, test_acc:  98.724047\n",
      "Epoch 399 - train loss:  0.9111, accuracy:  99.365798\n",
      "test_loss:  0.9180, test_acc:  98.701397\n",
      "Epoch 400 - train loss:  0.9104, accuracy:  99.433749\n",
      "test_loss:  0.9179, test_acc:  98.708947\n"
     ]
    }
   ],
   "metadata": {
    "collapsed": false,
    "gather": {
     "logged": 1631695917428
    },
    "jupyter": {
     "outputs_hidden": false,
     "source_hidden": false
    },
    "nteract": {
     "transient": {
      "deleting": false
     }
    }
   }
  },
  {
   "cell_type": "code",
   "execution_count": 52,
   "source": [
    "best_test_acc_epoch = np.array(test_accs).argmax() + 1\n",
    "print('Best test accuracy {:.2f}% in epoch {}.'.format(best_test_acc*100, best_test_acc_epoch))"
   ],
   "outputs": [
    {
     "output_type": "stream",
     "name": "stdout",
     "text": [
      "Best test accuracy 98.85% in epoch 351.\n"
     ]
    }
   ],
   "metadata": {
    "collapsed": false,
    "jupyter": {
     "outputs_hidden": false,
     "source_hidden": false
    },
    "nteract": {
     "transient": {
      "deleting": false
     }
    }
   }
  },
  {
   "cell_type": "markdown",
   "source": [
    "Save train and test losses and accuracies to a `.csv` file "
   ],
   "metadata": {}
  },
  {
   "cell_type": "code",
   "execution_count": 53,
   "source": [
    "import pandas as pd\n",
    "import os\n",
    "df = pd.DataFrame({  # save model training process into csv file\n",
    "        'loss': train_losses,\n",
    "        'test_loss': test_losses,\n",
    "        'acc': train_accs,\n",
    "        'test_acc': test_accs\n",
    "    })\n",
    "df.to_csv('loss_and_acc.csv')"
   ],
   "outputs": [],
   "metadata": {}
  },
  {
   "cell_type": "markdown",
   "source": [
    "Plotting losses and accuracies"
   ],
   "metadata": {}
  },
  {
   "cell_type": "code",
   "execution_count": 54,
   "source": [
    "df = pd.read_csv('loss_and_acc.csv')\n",
    "test_accs = df['test_acc']\n",
    "train_accs = df['acc']\n",
    "test_losses = df['test_loss']\n",
    "train_losses = df['loss']\n",
    "\n",
    "fig, ax = plt.subplots(1, 2, figsize=(15, 4))\n",
    "\n",
    "ax[0].plot(train_losses, color='red')\n",
    "ax[0].plot(test_losses, color='green')\n",
    "ax[0].set_xticks([0, 100, 200, 300, 400])\n",
    "ax[0].set_xlabel('Epoch', size=16)\n",
    "ax[0].set_ylabel('Loss', size=16)\n",
    "ax[0].set_ylim(0.9, 1.1)\n",
    "ax[0].set_yticks([0.9, 1.0, 1.1, 1.2])\n",
    "ax[0].grid(alpha=0.5)\n",
    "ax[0].tick_params(labelsize=16)\n",
    "ax[0].legend(['Train', 'Test'], loc='right', fontsize=16)\n",
    "\n",
    "\n",
    "ax[1].set_ylim(0.7, 1.0)\n",
    "ax[1].set_yticks([0.7, 0.8, 0.9, 1.0])\n",
    "ax[1].plot(train_accs, color='red')\n",
    "ax[1].plot(test_accs, color='green')\n",
    "yt = ax[1].get_yticks()\n",
    "ax[1].set_yticklabels(['{:,.0%}'.format(x) for x in yt])\n",
    "ax[1].set_xticks([0, 100, 200, 300, 400])\n",
    "ax[1].set_xlabel('Epoch', size=16)\n",
    "ax[1].set_ylabel('Accuracy', size=16, labelpad=-5)\n",
    "ax[1].grid(alpha=0.5)\n",
    "ax[1].tick_params(labelsize=16)\n",
    "ax[1].legend(['Train', 'Test'], loc='right', fontsize=16)\n",
    "\n",
    "fig.savefig('loss_acc_conv2_split_seed.pdf', bbox_inches='tight')"
   ],
   "outputs": [
    {
     "output_type": "display_data",
     "data": {
      "image/png": "[encoded data removed]",
      "text/plain": [
       "<Figure size 1080x288 with 2 Axes>"
      ]
     },
     "metadata": {}
    }
   ],
   "metadata": {}
  },
  {
   "cell_type": "code",
   "execution_count": null,
   "source": [],
   "outputs": [],
   "metadata": {}
  }
 ],
 "metadata": {
  "interpreter": {
   "hash": "d8c1a441a5f9f7733d33e10332ba6605fc14f14734f8e602f9ed7877aacd3dd5"
  },
  "kernel_info": {
   "name": "syftenv"
  },
  "kernelspec": {
   "name": "syftenv",
   "display_name": "syft",
   "language": "python"
  },
  "microsoft": {
   "host": {
    "AzureML": {
     "notebookHasBeenCompleted": true
    }
   }
  },
  "nteract": {
   "version": "nteract-front-end@1.0.0"
  },
  "language_info": {
   "name": "python",
   "version": "3.9.6",
   "mimetype": "text/x-python",
   "codemirror_mode": {
    "name": "ipython",
    "version": 3
   },
   "pygments_lexer": "ipython3",
   "nbconvert_exporter": "python",
   "file_extension": ".py"
  }
 },
 "nbformat": 4,
 "nbformat_minor": 4
}